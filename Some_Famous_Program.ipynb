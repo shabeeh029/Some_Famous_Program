{
  "cells": [
    {
      "cell_type": "markdown",
      "metadata": {
        "id": "view-in-github",
        "colab_type": "text"
      },
      "source": [
        "<a href=\"https://colab.research.google.com/github/shabeeh029/Some_Famous_Program/blob/main/Some_Famous_Program.ipynb\" target=\"_parent\"><img src=\"https://colab.research.google.com/assets/colab-badge.svg\" alt=\"Open In Colab\"/></a>"
      ]
    },
    {
      "cell_type": "markdown",
      "metadata": {
        "id": "vdeAt-E0nKLO"
      },
      "source": [
        "#Fibonaci Series-"
      ]
    },
    {
      "cell_type": "code",
      "execution_count": null,
      "metadata": {
        "colab": {
          "base_uri": "https://localhost:8080/"
        },
        "id": "Kq-p97-YnRG2",
        "outputId": "6b6ebd17-46aa-4da7-8da1-b6b85760738c"
      },
      "outputs": [
        {
          "name": "stdout",
          "output_type": "stream",
          "text": [
            "[0, 1, 1, 2, 3, 5, 8, 13, 21, 34, 55, 89]\n"
          ]
        }
      ],
      "source": [
        "#fibnoaci-1 using list\n",
        "fib=[0,1]\n",
        "for i in range(10):\n",
        "  fib.append(fib[-1]+fib[-2])\n",
        "  \n",
        "print(fib)"
      ]
    },
    {
      "cell_type": "code",
      "execution_count": null,
      "metadata": {
        "colab": {
          "base_uri": "https://localhost:8080/"
        },
        "id": "Rm2KogPFnh4n",
        "outputId": "b8522c21-70b7-40ba-9bda-70b5182646ed"
      },
      "outputs": [
        {
          "name": "stdout",
          "output_type": "stream",
          "text": [
            "0 1 1 2 3 5 8 13 21 34 55 89 "
          ]
        }
      ],
      "source": [
        "#fibonaci-2 Normal\n",
        "a=0\n",
        "b=1\n",
        "print(a,b,end=' ')\n",
        "for i in range(10):\n",
        "  c=a+b\n",
        "  print(c,end=' ')\n",
        "  a=b\n",
        "  b=c"
      ]
    },
    {
      "cell_type": "markdown",
      "metadata": {
        "id": "A05gxmX0pbg7"
      },
      "source": [
        "#Palindrome-"
      ]
    },
    {
      "cell_type": "code",
      "execution_count": null,
      "metadata": {
        "colab": {
          "base_uri": "https://localhost:8080/"
        },
        "id": "8ZX7dEDQpiG_",
        "outputId": "b3010392-0a2b-4f69-e71a-1e5c09a266b0"
      },
      "outputs": [
        {
          "output_type": "stream",
          "name": "stdout",
          "text": [
            "Enter Number or Strings-Geeks\n",
            "Number or Strings are Not Palindrome-\n"
          ]
        }
      ],
      "source": [
        "x=input(\"Enter Number or Strings-\")\n",
        "s=x[::-1]\n",
        "if(x==s):\n",
        "  print(\"Number or Strings are Palindrome-\")\n",
        "else:\n",
        "  print(\"Number or Strings are Not Palindrome-\")"
      ]
    },
    {
      "cell_type": "markdown",
      "metadata": {
        "id": "x45ditOZrME1"
      },
      "source": [
        "#Armstrong-\n"
      ]
    },
    {
      "cell_type": "code",
      "execution_count": null,
      "metadata": {
        "colab": {
          "base_uri": "https://localhost:8080/"
        },
        "id": "_OvxxO5urQYh",
        "outputId": "04fb6721-5f46-4615-e8a5-f69f773a8a44"
      },
      "outputs": [
        {
          "name": "stdout",
          "output_type": "stream",
          "text": [
            "153\n",
            "Number is Armstrong-\n"
          ]
        }
      ],
      "source": [
        "num=int(input())\n",
        "sum=0\n",
        "temp=num\n",
        "while(temp>0):\n",
        "  digit=temp%10\n",
        "  sum+=digit**3\n",
        "  temp //=10\n",
        "if(num==sum):\n",
        "  print(\"Number is Armstrong-\")\n",
        "else:\n",
        "  print(\"Number is not Armstrong\")"
      ]
    },
    {
      "cell_type": "markdown",
      "metadata": {
        "id": "GO9taD4LtQ7V"
      },
      "source": [
        "#Leap Year \n"
      ]
    },
    {
      "cell_type": "code",
      "execution_count": null,
      "metadata": {
        "colab": {
          "base_uri": "https://localhost:8080/"
        },
        "id": "9zND9fxTtYFn",
        "outputId": "8f4002a4-d651-413c-bdbc-f3c2fcb0a61a"
      },
      "outputs": [
        {
          "name": "stdout",
          "output_type": "stream",
          "text": [
            "2017\n",
            "Not leap Year\n"
          ]
        }
      ],
      "source": [
        "n=int(input())\n",
        "if((n%400==0) or (n%100!=0) and (n%4==0)):\n",
        "  print(\"Leap Year\")\n",
        "else:\n",
        "  print(\"Not leap Year\")"
      ]
    },
    {
      "cell_type": "markdown",
      "metadata": {
        "id": "Shzzpk1Xu--7"
      },
      "source": [
        "#Even or Odd"
      ]
    },
    {
      "cell_type": "code",
      "execution_count": null,
      "metadata": {
        "colab": {
          "base_uri": "https://localhost:8080/"
        },
        "id": "Csi94cXUvEvx",
        "outputId": "ce639462-9ec7-4415-f5e3-6323ecc71d80"
      },
      "outputs": [
        {
          "name": "stdout",
          "output_type": "stream",
          "text": [
            "3\n",
            "Number is odd\n"
          ]
        }
      ],
      "source": [
        "n=int(input())\n",
        "if(n%2==0):\n",
        "  print(\"Number is even\")\n",
        "else:\n",
        "  print(\"Number is odd\")"
      ]
    },
    {
      "cell_type": "markdown",
      "metadata": {
        "id": "vwSEFhovveJJ"
      },
      "source": [
        "#Sum Of Natural Number-"
      ]
    },
    {
      "cell_type": "code",
      "execution_count": null,
      "metadata": {
        "colab": {
          "base_uri": "https://localhost:8080/"
        },
        "id": "_2AsrXjbvkmN",
        "outputId": "1f00c31a-f638-4b94-9be3-2ebd5c826f76"
      },
      "outputs": [
        {
          "name": "stdout",
          "output_type": "stream",
          "text": [
            "100\n",
            "The sum of natural number is- 5050\n"
          ]
        }
      ],
      "source": [
        "n=int(input())\n",
        "if n<0:\n",
        "  print(\"Enter a positive number \")\n",
        "else:\n",
        "    sum=0\n",
        "while(n>0):\n",
        "  sum+=n\n",
        "  n-=1\n",
        "print(\"The sum of natural number is-\",sum)"
      ]
    },
    {
      "cell_type": "markdown",
      "metadata": {
        "id": "6bPGWhvhxLoR"
      },
      "source": [
        "#Factorial of number-"
      ]
    },
    {
      "cell_type": "code",
      "execution_count": null,
      "metadata": {
        "colab": {
          "base_uri": "https://localhost:8080/"
        },
        "id": "xPIxqfH_xPNG",
        "outputId": "d865626e-b782-4779-baad-b243ea94bc74"
      },
      "outputs": [
        {
          "output_type": "stream",
          "name": "stdout",
          "text": [
            "5\n",
            "5!=120\n"
          ]
        }
      ],
      "source": [
        "n=int(input())\n",
        "fact=1\n",
        "if(n<0):\n",
        "  print(\"Can't Compute Factorial for Negative number\")\n",
        "elif (n==0):\n",
        "  print('{}!={}'.format(n,fact))\n",
        "else:\n",
        "    for n in range(1,n+1):\n",
        "      fact=fact*n\n",
        "\n",
        "    print('{}!={}'.format(n,fact))\n"
      ]
    },
    {
      "cell_type": "markdown",
      "source": [
        "#Check Prime Number or not"
      ],
      "metadata": {
        "id": "tWzFCZ8bIWoq"
      }
    },
    {
      "cell_type": "code",
      "source": [
        "n=int(input())\n",
        "if n<2:\n",
        "  print(\"Not a Prime number\")\n",
        "else:\n",
        "    for i in range(2,n):\n",
        "      if n%i==0:\n",
        "        print(\"Not a Prime\")\n",
        "        break\n",
        "    else:\n",
        "      print(\"Number is Prime\")\n",
        "\n",
        "\n",
        "\n",
        "\n"
      ],
      "metadata": {
        "colab": {
          "base_uri": "https://localhost:8080/"
        },
        "id": "7OAZUniiJyDS",
        "outputId": "a7bceb9f-3ce1-4c89-f6bb-915788578332"
      },
      "execution_count": null,
      "outputs": [
        {
          "output_type": "stream",
          "name": "stdout",
          "text": [
            "8\n",
            "Not a Prime\n"
          ]
        }
      ]
    },
    {
      "cell_type": "markdown",
      "source": [
        "#Remove even integers from list-"
      ],
      "metadata": {
        "id": "W_o_LQSTv-8k"
      }
    },
    {
      "cell_type": "code",
      "source": [
        "lst=[1,2,3,4,5,6,7,8,9,10]\n",
        "print(list(filter(lambda x:x%2==0,lst)))\n"
      ],
      "metadata": {
        "colab": {
          "base_uri": "https://localhost:8080/"
        },
        "id": "QEOUmJhDwCJy",
        "outputId": "17598d7f-da55-4bc4-e322-8c90d05979d6"
      },
      "execution_count": null,
      "outputs": [
        {
          "output_type": "stream",
          "name": "stdout",
          "text": [
            "[2, 4, 6, 8, 10]\n"
          ]
        }
      ]
    },
    {
      "cell_type": "markdown",
      "source": [
        "#Merge two sorted lists-"
      ],
      "metadata": {
        "id": "qCJz6j_SyMZY"
      }
    },
    {
      "cell_type": "code",
      "source": [
        "l1=[1,2,3,4,5]\n",
        "l2=[6,7,8,9,10]\n",
        "l1.extend(l2)\n",
        "sorted(l1)"
      ],
      "metadata": {
        "colab": {
          "base_uri": "https://localhost:8080/"
        },
        "id": "Yo55sTPEyPdp",
        "outputId": "9c183840-7b5e-4d4e-e5a5-86e064d5109f"
      },
      "execution_count": null,
      "outputs": [
        {
          "output_type": "execute_result",
          "data": {
            "text/plain": [
              "[1, 2, 3, 4, 5, 6, 7, 8, 9, 10]"
            ]
          },
          "metadata": {},
          "execution_count": 8
        }
      ]
    },
    {
      "cell_type": "markdown",
      "source": [
        "#Find minimum and maximum value in a list"
      ],
      "metadata": {
        "id": "QhOdhSMpzePM"
      }
    },
    {
      "cell_type": "markdown",
      "source": [
        "1-Single-dimensional array\n",
        "2- Two-dimensional NumPy array. \n",
        "*Import numpy library*\n",
        "Syntax:-numpy.max(arr),numpy.min(arr)"
      ],
      "metadata": {
        "id": "dOacvwUp0Dwq"
      }
    },
    {
      "cell_type": "code",
      "source": [
        "#1-Single-dimensional array \n",
        "import numpy\n",
        "arr = numpy.array([1, 2, 3, 4, 5])\n",
        "max_element= numpy.max(arr)\n",
        "min_element=numpy.min(arr)\n",
        "print(f'Maximum element in the array is-{max_element}')\n",
        "print(f'Minimum element in the array is-{min_element}')\n",
        "\n",
        "#2 dimensional wala same aisey rahega bus usme 2d array hoga  "
      ],
      "metadata": {
        "colab": {
          "base_uri": "https://localhost:8080/"
        },
        "id": "KB-9gLh80s7U",
        "outputId": "f6c81649-735f-4382-a79e-e2cb48df41fc"
      },
      "execution_count": null,
      "outputs": [
        {
          "output_type": "stream",
          "name": "stdout",
          "text": [
            "Maximum element in the array is-5\n",
            "Minimum element in the array is-1\n"
          ]
        }
      ]
    },
    {
      "cell_type": "markdown",
      "source": [
        "#Sum of all element in array-"
      ],
      "metadata": {
        "id": "a1heeF6g5ZWr"
      }
    },
    {
      "cell_type": "code",
      "source": [
        "import numpy\n",
        "list1 = [1, 2, 3]\n",
        "list2 = [4, 5, 6]\n",
        " #numpy.prod() ko  multiplications ke liye use kartey hain\n",
        "result1 = numpy.prod(list1)\n",
        "result2 = numpy.prod(list2)\n",
        "print(result1)\n",
        "print(result2)"
      ],
      "metadata": {
        "colab": {
          "base_uri": "https://localhost:8080/"
        },
        "id": "dIF9iWtZ5sZw",
        "outputId": "4f8ab2ed-3308-410f-fd41-799f513e337e"
      },
      "execution_count": null,
      "outputs": [
        {
          "output_type": "stream",
          "name": "stdout",
          "text": [
            "6\n",
            "120\n"
          ]
        }
      ]
    },
    {
      "cell_type": "markdown",
      "source": [
        "#Write a program to reverse the array-"
      ],
      "metadata": {
        "id": "6VtLB1Ef9eAF"
      }
    },
    {
      "cell_type": "code",
      "source": [
        "a=[1,2,3,4,5,6,7,8,9,10]\n",
        "b=a[::-1]\n",
        "print(\"Reversed array are-\",b)\n"
      ],
      "metadata": {
        "colab": {
          "base_uri": "https://localhost:8080/"
        },
        "id": "s4gKs4zC9mVI",
        "outputId": "fdbd1b67-0c6f-4845-b93a-b02b26127aa5"
      },
      "execution_count": null,
      "outputs": [
        {
          "output_type": "stream",
          "name": "stdout",
          "text": [
            "Reversed array are- [10, 9, 8, 7, 6, 5, 4, 3, 2, 1]\n"
          ]
        }
      ]
    },
    {
      "cell_type": "markdown",
      "source": [
        "#Write a program to sort the given array-"
      ],
      "metadata": {
        "id": "UGPNuYaXAAjX"
      }
    },
    {
      "cell_type": "code",
      "source": [
        "arr=[1,3,46,64,65,37]\n",
        "print(\"My array is-\",arr)\n",
        "b=arr.sort()\n",
        "print(\"my sorted array\",arr)\n",
        "\n",
        "\n"
      ],
      "metadata": {
        "colab": {
          "base_uri": "https://localhost:8080/"
        },
        "id": "ZqAvu9IdADbG",
        "outputId": "29ce45b0-3f73-45ba-d5e7-b0ac2bba3d0c"
      },
      "execution_count": null,
      "outputs": [
        {
          "output_type": "stream",
          "name": "stdout",
          "text": [
            "My array is- [1, 3, 46, 64, 65, 37]\n",
            "my sorted array [1, 3, 37, 46, 64, 65]\n"
          ]
        }
      ]
    },
    {
      "cell_type": "markdown",
      "source": [
        "#Move all the negative elements to one side of the array -"
      ],
      "metadata": {
        "id": "zEoPkJZWGUh9"
      }
    },
    {
      "cell_type": "code",
      "source": [
        "arr = [1 ,-1 ,-3 , -2, 7, 5, 11, 6 ]\n",
        "def move(arr,n):\n",
        "    k= 0\n",
        "    for i in range(n):\n",
        "        if arr[i]>=0:\n",
        "            arr[i],arr[k] = arr[k],arr[i]\n",
        "            k+=1\n",
        "    return arr\n",
        "n = len(arr)\n",
        "print(move(arr, n))"
      ],
      "metadata": {
        "colab": {
          "base_uri": "https://localhost:8080/"
        },
        "id": "-I2ah-N8Fyux",
        "outputId": "8fc19325-0455-468a-92c8-ad7df2f7dec9"
      },
      "execution_count": null,
      "outputs": [
        {
          "output_type": "stream",
          "name": "stdout",
          "text": [
            "[1, 7, 5, 11, 6, -3, -2, -1]\n"
          ]
        }
      ]
    },
    {
      "cell_type": "markdown",
      "source": [
        "next program coming soon"
      ],
      "metadata": {
        "id": "DD7u2IQYM-CQ"
      }
    },
    {
      "cell_type": "code",
      "source": [
        ""
      ],
      "metadata": {
        "id": "6z-4xRdINAhs"
      },
      "execution_count": null,
      "outputs": []
    }
  ],
  "metadata": {
    "colab": {
      "name": "Some_Famous_Program.ipynb",
      "provenance": [],
      "collapsed_sections": [],
      "authorship_tag": "ABX9TyM3Oi1ApPD+/U0TnzdA0D6E",
      "include_colab_link": true
    },
    "kernelspec": {
      "display_name": "Python 3",
      "name": "python3"
    },
    "language_info": {
      "name": "python"
    }
  },
  "nbformat": 4,
  "nbformat_minor": 0
}